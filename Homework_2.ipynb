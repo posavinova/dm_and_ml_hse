{
 "cells": [
  {
   "cell_type": "markdown",
   "id": "50cf51d7-c3d3-404c-981a-326c2c697b16",
   "metadata": {
    "id": "cNAUsMojBu56",
    "tags": []
   },
   "source": [
    "# Homework 2\n",
    "\n",
    "1. Анализ датасета. Каков баланс классов (положительный, негативный, отрицательный) в данном датасете?\n",
    "Сколько авиалиний представлено в датасете (колонка airline)?\n",
    "Каково соотношение классов для каждой авиалинии?\n",
    "\n",
    "2. Постройте гистограмму распределения длин текстов в датасете (в символах, а лучше в токенах)\n",
    "\n",
    "3. Реализуйте еще хотя бы один-два шага для подготовки и нормализации текстов ( из тех, что обсуждали, но не реализовали на занятии, например, хотя бы почистить текст от пунктуации и спец. символов). \n",
    "\n",
    "4. Векторизируйте тексты с помощью tf idf. Используйте получившиеся вектора, чтобы обучить Knn классификатор (можете использовать кросс валидацию и поиск по сетке). Оцените его качество\n",
    "\n",
    "5. Поэкспериментируйте с параметрами tf idf векторизатора из sklearn. Нпаример, выберете иные max_features, binary, min max df, ngram range  и т.д. Попробуйте подобрать такие параметры, которые улучшат качество модели.\n",
    "\n",
    "6. (OPTIONAL) Поэкспериментируйте с разными токенайзерами. Попробуйте найти тот, что на Ваш взгляд дает лучший результат. Возможно,  это поможет еще больше улучшить качество модели"
   ]
  },
  {
   "cell_type": "markdown",
   "id": "245c4dcd-407f-4f2e-8c47-1ac4103e9ae4",
   "metadata": {},
   "source": [
    "## Task 1. Dataset Analysis. Class balance"
   ]
  },
  {
   "cell_type": "code",
   "execution_count": 1,
   "id": "3d7af83f-e243-4fa6-b095-213358f4de36",
   "metadata": {},
   "outputs": [],
   "source": [
    "import pandas as pd"
   ]
  },
  {
   "cell_type": "code",
   "execution_count": 2,
   "id": "06ef6d51-e41e-499a-a061-df6681a19725",
   "metadata": {},
   "outputs": [],
   "source": [
    "data = pd.read_csv('Tweets.csv')"
   ]
  },
  {
   "cell_type": "code",
   "execution_count": 3,
   "id": "fe9e24fb-1bac-4bce-9130-d6c0a3cc37d7",
   "metadata": {},
   "outputs": [
    {
     "data": {
      "text/html": [
       "<div>\n",
       "<style scoped>\n",
       "    .dataframe tbody tr th:only-of-type {\n",
       "        vertical-align: middle;\n",
       "    }\n",
       "\n",
       "    .dataframe tbody tr th {\n",
       "        vertical-align: top;\n",
       "    }\n",
       "\n",
       "    .dataframe thead th {\n",
       "        text-align: right;\n",
       "    }\n",
       "</style>\n",
       "<table border=\"1\" class=\"dataframe\">\n",
       "  <thead>\n",
       "    <tr style=\"text-align: right;\">\n",
       "      <th></th>\n",
       "      <th>tweet_id</th>\n",
       "      <th>airline_sentiment</th>\n",
       "      <th>airline_sentiment_confidence</th>\n",
       "      <th>negativereason</th>\n",
       "      <th>negativereason_confidence</th>\n",
       "      <th>airline</th>\n",
       "      <th>airline_sentiment_gold</th>\n",
       "      <th>name</th>\n",
       "      <th>negativereason_gold</th>\n",
       "      <th>retweet_count</th>\n",
       "      <th>text</th>\n",
       "      <th>tweet_coord</th>\n",
       "      <th>tweet_created</th>\n",
       "      <th>tweet_location</th>\n",
       "      <th>user_timezone</th>\n",
       "    </tr>\n",
       "  </thead>\n",
       "  <tbody>\n",
       "    <tr>\n",
       "      <th>0</th>\n",
       "      <td>570306133677760513</td>\n",
       "      <td>neutral</td>\n",
       "      <td>1.0000</td>\n",
       "      <td>NaN</td>\n",
       "      <td>NaN</td>\n",
       "      <td>Virgin America</td>\n",
       "      <td>NaN</td>\n",
       "      <td>cairdin</td>\n",
       "      <td>NaN</td>\n",
       "      <td>0</td>\n",
       "      <td>@VirginAmerica What @dhepburn said.</td>\n",
       "      <td>NaN</td>\n",
       "      <td>2015-02-24 11:35:52 -0800</td>\n",
       "      <td>NaN</td>\n",
       "      <td>Eastern Time (US &amp; Canada)</td>\n",
       "    </tr>\n",
       "    <tr>\n",
       "      <th>1</th>\n",
       "      <td>570301130888122368</td>\n",
       "      <td>positive</td>\n",
       "      <td>0.3486</td>\n",
       "      <td>NaN</td>\n",
       "      <td>0.0000</td>\n",
       "      <td>Virgin America</td>\n",
       "      <td>NaN</td>\n",
       "      <td>jnardino</td>\n",
       "      <td>NaN</td>\n",
       "      <td>0</td>\n",
       "      <td>@VirginAmerica plus you've added commercials t...</td>\n",
       "      <td>NaN</td>\n",
       "      <td>2015-02-24 11:15:59 -0800</td>\n",
       "      <td>NaN</td>\n",
       "      <td>Pacific Time (US &amp; Canada)</td>\n",
       "    </tr>\n",
       "    <tr>\n",
       "      <th>2</th>\n",
       "      <td>570301083672813571</td>\n",
       "      <td>neutral</td>\n",
       "      <td>0.6837</td>\n",
       "      <td>NaN</td>\n",
       "      <td>NaN</td>\n",
       "      <td>Virgin America</td>\n",
       "      <td>NaN</td>\n",
       "      <td>yvonnalynn</td>\n",
       "      <td>NaN</td>\n",
       "      <td>0</td>\n",
       "      <td>@VirginAmerica I didn't today... Must mean I n...</td>\n",
       "      <td>NaN</td>\n",
       "      <td>2015-02-24 11:15:48 -0800</td>\n",
       "      <td>Lets Play</td>\n",
       "      <td>Central Time (US &amp; Canada)</td>\n",
       "    </tr>\n",
       "    <tr>\n",
       "      <th>3</th>\n",
       "      <td>570301031407624196</td>\n",
       "      <td>negative</td>\n",
       "      <td>1.0000</td>\n",
       "      <td>Bad Flight</td>\n",
       "      <td>0.7033</td>\n",
       "      <td>Virgin America</td>\n",
       "      <td>NaN</td>\n",
       "      <td>jnardino</td>\n",
       "      <td>NaN</td>\n",
       "      <td>0</td>\n",
       "      <td>@VirginAmerica it's really aggressive to blast...</td>\n",
       "      <td>NaN</td>\n",
       "      <td>2015-02-24 11:15:36 -0800</td>\n",
       "      <td>NaN</td>\n",
       "      <td>Pacific Time (US &amp; Canada)</td>\n",
       "    </tr>\n",
       "    <tr>\n",
       "      <th>4</th>\n",
       "      <td>570300817074462722</td>\n",
       "      <td>negative</td>\n",
       "      <td>1.0000</td>\n",
       "      <td>Can't Tell</td>\n",
       "      <td>1.0000</td>\n",
       "      <td>Virgin America</td>\n",
       "      <td>NaN</td>\n",
       "      <td>jnardino</td>\n",
       "      <td>NaN</td>\n",
       "      <td>0</td>\n",
       "      <td>@VirginAmerica and it's a really big bad thing...</td>\n",
       "      <td>NaN</td>\n",
       "      <td>2015-02-24 11:14:45 -0800</td>\n",
       "      <td>NaN</td>\n",
       "      <td>Pacific Time (US &amp; Canada)</td>\n",
       "    </tr>\n",
       "  </tbody>\n",
       "</table>\n",
       "</div>"
      ],
      "text/plain": [
       "             tweet_id airline_sentiment  airline_sentiment_confidence  \\\n",
       "0  570306133677760513           neutral                        1.0000   \n",
       "1  570301130888122368          positive                        0.3486   \n",
       "2  570301083672813571           neutral                        0.6837   \n",
       "3  570301031407624196          negative                        1.0000   \n",
       "4  570300817074462722          negative                        1.0000   \n",
       "\n",
       "  negativereason  negativereason_confidence         airline  \\\n",
       "0            NaN                        NaN  Virgin America   \n",
       "1            NaN                     0.0000  Virgin America   \n",
       "2            NaN                        NaN  Virgin America   \n",
       "3     Bad Flight                     0.7033  Virgin America   \n",
       "4     Can't Tell                     1.0000  Virgin America   \n",
       "\n",
       "  airline_sentiment_gold        name negativereason_gold  retweet_count  \\\n",
       "0                    NaN     cairdin                 NaN              0   \n",
       "1                    NaN    jnardino                 NaN              0   \n",
       "2                    NaN  yvonnalynn                 NaN              0   \n",
       "3                    NaN    jnardino                 NaN              0   \n",
       "4                    NaN    jnardino                 NaN              0   \n",
       "\n",
       "                                                text tweet_coord  \\\n",
       "0                @VirginAmerica What @dhepburn said.         NaN   \n",
       "1  @VirginAmerica plus you've added commercials t...         NaN   \n",
       "2  @VirginAmerica I didn't today... Must mean I n...         NaN   \n",
       "3  @VirginAmerica it's really aggressive to blast...         NaN   \n",
       "4  @VirginAmerica and it's a really big bad thing...         NaN   \n",
       "\n",
       "               tweet_created tweet_location               user_timezone  \n",
       "0  2015-02-24 11:35:52 -0800            NaN  Eastern Time (US & Canada)  \n",
       "1  2015-02-24 11:15:59 -0800            NaN  Pacific Time (US & Canada)  \n",
       "2  2015-02-24 11:15:48 -0800      Lets Play  Central Time (US & Canada)  \n",
       "3  2015-02-24 11:15:36 -0800            NaN  Pacific Time (US & Canada)  \n",
       "4  2015-02-24 11:14:45 -0800            NaN  Pacific Time (US & Canada)  "
      ]
     },
     "execution_count": 3,
     "metadata": {},
     "output_type": "execute_result"
    }
   ],
   "source": [
    "data.head()"
   ]
  },
  {
   "cell_type": "code",
   "execution_count": 4,
   "id": "50a5c1a2-a03e-490f-a54b-961dc9c7e78a",
   "metadata": {},
   "outputs": [
    {
     "data": {
      "text/plain": [
       "tweet_id                            0\n",
       "airline_sentiment                   0\n",
       "airline_sentiment_confidence        0\n",
       "negativereason                   5462\n",
       "negativereason_confidence        4118\n",
       "airline                             0\n",
       "airline_sentiment_gold          14600\n",
       "name                                0\n",
       "negativereason_gold             14608\n",
       "retweet_count                       0\n",
       "text                                0\n",
       "tweet_coord                     13621\n",
       "tweet_created                       0\n",
       "tweet_location                   4733\n",
       "user_timezone                    4820\n",
       "dtype: int64"
      ]
     },
     "execution_count": 4,
     "metadata": {},
     "output_type": "execute_result"
    }
   ],
   "source": [
    "data.isnull().sum()"
   ]
  },
  {
   "cell_type": "code",
   "execution_count": 5,
   "id": "4bd5efde-29aa-4c7e-bd2f-47cb6c0a013f",
   "metadata": {},
   "outputs": [
    {
     "name": "stdout",
     "output_type": "stream",
     "text": [
      "Overall class Balance: \n",
      "negative    9178\n",
      "neutral     3099\n",
      "positive    2363\n",
      "Name: airline_sentiment, dtype: int64\n"
     ]
    }
   ],
   "source": [
    "# Checking the class balance in the dataset\n",
    "class_counts = data['airline_sentiment'].value_counts()\n",
    "print(f\"Overall class Balance: \\n{class_counts}\")"
   ]
  },
  {
   "cell_type": "code",
   "execution_count": 6,
   "id": "42ab9026-f8b3-4e99-b6a6-4012029f89bc",
   "metadata": {},
   "outputs": [
    {
     "name": "stdout",
     "output_type": "stream",
     "text": [
      "Number of Airlines Represented: 6 - ['Virgin America' 'United' 'Southwest' 'Delta' 'US Airways' 'American']\n"
     ]
    }
   ],
   "source": [
    "# Finding the number of airlines represented in the dataset\n",
    "airlines = data['airline'].unique()\n",
    "num_airlines = len(airlines)\n",
    "print(f\"Number of Airlines Represented: {num_airlines} - {airlines}\")"
   ]
  },
  {
   "cell_type": "code",
   "execution_count": 7,
   "id": "f6e200ad-7199-49f0-982a-deb4deaaa890",
   "metadata": {},
   "outputs": [
    {
     "name": "stdout",
     "output_type": "stream",
     "text": [
      "Class Ratios for Virgin America: \n",
      "negative    181\n",
      "neutral     171\n",
      "positive    152\n",
      "Name: airline_sentiment, dtype: int64\n",
      "\n",
      "Class Ratios for United: \n",
      "negative    2633\n",
      "neutral      697\n",
      "positive     492\n",
      "Name: airline_sentiment, dtype: int64\n",
      "\n",
      "Class Ratios for Southwest: \n",
      "negative    1186\n",
      "neutral      664\n",
      "positive     570\n",
      "Name: airline_sentiment, dtype: int64\n",
      "\n",
      "Class Ratios for Delta: \n",
      "negative    955\n",
      "neutral     723\n",
      "positive    544\n",
      "Name: airline_sentiment, dtype: int64\n",
      "\n",
      "Class Ratios for US Airways: \n",
      "negative    2263\n",
      "neutral      381\n",
      "positive     269\n",
      "Name: airline_sentiment, dtype: int64\n",
      "\n",
      "Class Ratios for American: \n",
      "negative    1960\n",
      "neutral      463\n",
      "positive     336\n",
      "Name: airline_sentiment, dtype: int64\n",
      "\n"
     ]
    }
   ],
   "source": [
    "# Calculating the class ratio for each airline\n",
    "for airline in airlines:\n",
    "    airline_df = data[data['airline'] == airline]\n",
    "    class_ratios = airline_df['airline_sentiment'].value_counts()\n",
    "    print(f\"Class Ratios for {airline}: \\n{class_ratios}\\n\")"
   ]
  },
  {
   "cell_type": "markdown",
   "id": "5e7d451f-cdf3-43fc-bb4b-32e57d6c1b77",
   "metadata": {},
   "source": [
    "## Task 2. Text length plotting"
   ]
  },
  {
   "cell_type": "code",
   "execution_count": 8,
   "id": "7c01e0b8-fe6c-4d44-8101-36f763ae96d9",
   "metadata": {},
   "outputs": [
    {
     "name": "stderr",
     "output_type": "stream",
     "text": [
      "[nltk_data] Downloading package punkt to\n",
      "[nltk_data]     C:\\Users\\email\\AppData\\Roaming\\nltk_data...\n",
      "[nltk_data]   Package punkt is already up-to-date!\n"
     ]
    },
    {
     "data": {
      "image/png": "[encoded data removed]",
      "text/plain": [
       "<Figure size 640x480 with 1 Axes>"
      ]
     },
     "metadata": {},
     "output_type": "display_data"
    }
   ],
   "source": [
    "import matplotlib.pyplot as plt\n",
    "import nltk\n",
    "\n",
    "nltk.download('punkt')\n",
    "\n",
    "# Calculating the length of each text in the dataset in tokens\n",
    "data['text_length'] = data['text'].apply(lambda x: len(nltk.word_tokenize(x)))\n",
    "\n",
    "# Plotting the histogram of text length distribution\n",
    "plt.hist(data['text_length'], bins=40, alpha=0.5, color='blue', edgecolor='black')\n",
    "plt.xlabel('Text Length (in Tokens)')\n",
    "plt.ylabel('Frequency')\n",
    "plt.title('Distribution of Text Length in the Dataset')\n",
    "plt.show()"
   ]
  },
  {
   "cell_type": "code",
   "execution_count": 9,
   "id": "9aaaa88c-1f45-4732-93a9-a99a22bfa9a0",
   "metadata": {},
   "outputs": [
    {
     "data": {
      "text/plain": [
       "21.97827868852459"
      ]
     },
     "execution_count": 9,
     "metadata": {},
     "output_type": "execute_result"
    }
   ],
   "source": [
    "# Average text length\n",
    "data['text_length'].mean()"
   ]
  },
  {
   "cell_type": "markdown",
   "id": "dc0ad857-bb61-4bb5-ad9c-4d41902b8b37",
   "metadata": {},
   "source": [
    "## Task 3. Text preprocessing"
   ]
  },
  {
   "cell_type": "code",
   "execution_count": 10,
   "id": "15dbeb22-5ed8-454f-8164-85ba532532b3",
   "metadata": {},
   "outputs": [
    {
     "name": "stderr",
     "output_type": "stream",
     "text": [
      "\n",
      "[notice] A new release of pip available: 22.3.1 -> 23.0\n",
      "[notice] To update, run: C:\\Users\\email\\AppData\\Local\\Programs\\Python\\Python39\\python.exe -m pip install --upgrade pip\n"
     ]
    }
   ],
   "source": [
    "!pip install emoji -q"
   ]
  },
  {
   "cell_type": "code",
   "execution_count": 11,
   "id": "50a834ab-fe1a-440d-82b3-de64d2c8a925",
   "metadata": {},
   "outputs": [],
   "source": [
    "pd.set_option('display.max_colwidth', None)"
   ]
  },
  {
   "cell_type": "code",
   "execution_count": 12,
   "id": "f30c3f83-8573-457b-9f22-a104263a7ccf",
   "metadata": {},
   "outputs": [
    {
     "name": "stderr",
     "output_type": "stream",
     "text": [
      "[nltk_data] Downloading package wordnet to\n",
      "[nltk_data]     C:\\Users\\email\\AppData\\Roaming\\nltk_data...\n",
      "[nltk_data]   Package wordnet is already up-to-date!\n"
     ]
    }
   ],
   "source": [
    "import re\n",
    "import emoji\n",
    "import string\n",
    "from nltk.stem import WordNetLemmatizer\n",
    "from nltk.corpus import wordnet \n",
    "\n",
    "nltk.download('wordnet')\n",
    "lemmatizer = WordNetLemmatizer()"
   ]
  },
  {
   "cell_type": "code",
   "execution_count": 63,
   "id": "de03a238-2a0a-4434-b507-2c2d5255e53e",
   "metadata": {},
   "outputs": [],
   "source": [
    "# Cleaning up the text by removing punctuation and special characters\n",
    "def clean_text_nltk(text):\n",
    "    # Text to lowercase\n",
    "    text = text.lower()\n",
    "    # Removing punctuation and special characters\n",
    "    text = text.translate(str.maketrans('', '', \"“”\" + string.punctuation.replace('@', '')))\n",
    "    \n",
    "    # Cleaning up stopwords, emojis, links and tags + lemmatization\n",
    "    text = emoji.replace_emoji(text, replace='')\n",
    "    text = re.sub(r'http[^\\s]+', '', text)\n",
    "    text = re.sub(r'@\\w+', '', text)\n",
    "\n",
    "    words = nltk.word_tokenize(text)\n",
    "    stopwords = nltk.corpus.stopwords.words('english')\n",
    "    words = [lemmatizer.lemmatize(word) for word in words if word not in stopwords]\n",
    "    text = ' '.join(words)\n",
    "    return text"
   ]
  },
  {
   "cell_type": "code",
   "execution_count": 64,
   "id": "b4a5ba95-860d-4ec6-983c-c5939d02930e",
   "metadata": {},
   "outputs": [],
   "source": [
    "data['text_clean'] = data['text'].apply(clean_text_nltk)"
   ]
  },
  {
   "cell_type": "code",
   "execution_count": 65,
   "id": "7a03679c-5a00-43c4-9704-320595504f33",
   "metadata": {},
   "outputs": [
    {
     "data": {
      "text/plain": [
       "['@VirginAmerica What @dhepburn said.',\n",
       " \"@VirginAmerica plus you've added commercials to the experience... tacky.\",\n",
       " \"@VirginAmerica I didn't today... Must mean I need to take another trip!\",\n",
       " '@VirginAmerica it\\'s really aggressive to blast obnoxious \"entertainment\" in your guests\\' faces &amp; they have little recourse',\n",
       " \"@VirginAmerica and it's a really big bad thing about it\",\n",
       " \"@VirginAmerica seriously would pay $30 a flight for seats that didn't have this playing.\\nit's really the only bad thing about flying VA\",\n",
       " '@VirginAmerica yes, nearly every time I fly VX this “ear worm” won’t go away :)',\n",
       " '@VirginAmerica Really missed a prime opportunity for Men Without Hats parody, there. https://t.co/mWpG7grEZP',\n",
       " \"@virginamerica Well, I didn't…but NOW I DO! :-D\",\n",
       " \"@VirginAmerica it was amazing, and arrived an hour early. You're too good to me.\",\n",
       " '@VirginAmerica did you know that suicide is the second leading cause of death among teens 10-24',\n",
       " '@VirginAmerica I &lt;3 pretty graphics. so much better than minimal iconography. :D',\n",
       " \"@VirginAmerica This is such a great deal! Already thinking about my 2nd trip to @Australia &amp; I haven't even gone on my 1st trip yet! ;p\",\n",
       " \"@VirginAmerica @virginmedia I'm flying your #fabulous #Seductive skies again! U take all the #stress away from travel http://t.co/ahlXHhKiyn\",\n",
       " '@VirginAmerica Thanks!',\n",
       " '@VirginAmerica SFO-PDX schedule is still MIA.',\n",
       " \"@VirginAmerica So excited for my first cross country flight LAX to MCO I've heard nothing but great things about Virgin America. #29DaysToGo\",\n",
       " \"@VirginAmerica  I flew from NYC to SFO last week and couldn't fully sit in my seat due to two large gentleman on either side of me. HELP!\",\n",
       " 'I ❤️ flying @VirginAmerica. ☺️👍',\n",
       " '@VirginAmerica you know what would be amazingly awesome? BOS-FLL PLEASE!!!!!!! I want to fly with only you.']"
      ]
     },
     "execution_count": 65,
     "metadata": {},
     "output_type": "execute_result"
    }
   ],
   "source": [
    "data['text'].to_list()[:20]"
   ]
  },
  {
   "cell_type": "code",
   "execution_count": 66,
   "id": "28224842-e43e-48af-8dfd-d6cd9ed89e15",
   "metadata": {
    "tags": []
   },
   "outputs": [
    {
     "data": {
      "text/plain": [
       "['said',\n",
       " 'plus youve added commercial experience tacky',\n",
       " 'didnt today must mean need take another trip',\n",
       " 'really aggressive blast obnoxious entertainment guest face amp little recourse',\n",
       " 'really big bad thing',\n",
       " 'seriously would pay 30 flight seat didnt playing really bad thing flying va',\n",
       " 'yes nearly every time fly vx ear worm ’ go away',\n",
       " 'really missed prime opportunity men without hat parody',\n",
       " 'well didnt…but',\n",
       " 'amazing arrived hour early youre good',\n",
       " 'know suicide second leading cause death among teen 1024',\n",
       " 'lt3 pretty graphic much better minimal iconography',\n",
       " 'great deal already thinking 2nd trip amp havent even gone 1st trip yet p',\n",
       " 'im flying fabulous seductive sky u take stress away travel',\n",
       " 'thanks',\n",
       " 'sfopdx schedule still mia',\n",
       " 'excited first cross country flight lax mco ive heard nothing great thing virgin america 29daystogo',\n",
       " 'flew nyc sfo last week couldnt fully sit seat due two large gentleman either side help',\n",
       " 'flying',\n",
       " 'know would amazingly awesome bosfll please want fly']"
      ]
     },
     "execution_count": 66,
     "metadata": {},
     "output_type": "execute_result"
    }
   ],
   "source": [
    "data['text_clean'].to_list()[:20]"
   ]
  },
  {
   "cell_type": "markdown",
   "id": "1739ea58-1cdc-4dee-b929-4d86c81abc23",
   "metadata": {},
   "source": [
    "## Task 4-5. TF-IDF text vectorization and KNN Classifier fitting"
   ]
  },
  {
   "cell_type": "code",
   "execution_count": 54,
   "id": "cd650365-daf8-45a1-be68-e82d1f720d3c",
   "metadata": {},
   "outputs": [],
   "source": [
    "from sklearn.model_selection import GridSearchCV\n",
    "from sklearn.feature_extraction.text import TfidfVectorizer\n",
    "from sklearn.neighbors import KNeighborsClassifier\n",
    "from sklearn.model_selection import train_test_split\n",
    "from sklearn.metrics import accuracy_score, f1_score, recall_score, precision_score, confusion_matrix\n",
    "\n",
    "import numpy as np"
   ]
  },
  {
   "cell_type": "code",
   "execution_count": 18,
   "id": "ccf1b765-acbd-4180-8955-41ade9f82dc1",
   "metadata": {},
   "outputs": [],
   "source": [
    "# Encoding data labels\n",
    "from sklearn.preprocessing import LabelEncoder\n",
    "label_encoder = LabelEncoder()\n",
    "data['labels'] = label_encoder.fit_transform(data['airline_sentiment'])"
   ]
  },
  {
   "cell_type": "code",
   "execution_count": 19,
   "id": "ddf47fbf-2384-4d20-88f7-1ebf80bd5c96",
   "metadata": {},
   "outputs": [],
   "source": [
    "X = data['text_clean'].values"
   ]
  },
  {
   "cell_type": "code",
   "execution_count": 20,
   "id": "94a666d5-f3f6-4e40-a475-00d8bd79854f",
   "metadata": {},
   "outputs": [],
   "source": [
    "Y = data['labels'].values"
   ]
  },
  {
   "cell_type": "code",
   "execution_count": 56,
   "id": "4f7ca807-4d48-4df5-bdd8-32e4d56a8fa3",
   "metadata": {},
   "outputs": [],
   "source": [
    "x_train, x_test, y_train, y_test = train_test_split(X, Y, test_size=0.2, shuffle=True, random_state=1)"
   ]
  },
  {
   "cell_type": "code",
   "execution_count": 26,
   "id": "71a8451c-3f2c-472e-86e9-0f942138f5b6",
   "metadata": {},
   "outputs": [],
   "source": [
    "parameter_grid = {'vect__max_features': [1000, 1500],\n",
    "              'vect__min_df': [4, 9],\n",
    "              'vect__max_df': [0.6, 0.9],\n",
    "              'vect__ngram_range': [(1, 2), (1, 3)],\n",
    "              'clf__n_neighbors': [5, 7, 9],\n",
    "              'clf__metric': ['cosine', 'euclidean']}"
   ]
  },
  {
   "cell_type": "code",
   "execution_count": 27,
   "id": "2ff84c58-9fe0-48e8-972e-65ab8bad285a",
   "metadata": {},
   "outputs": [],
   "source": [
    "from sklearn.pipeline import Pipeline\n",
    "\n",
    "pipeline = Pipeline(\n",
    "    [\n",
    "        ('vect', TfidfVectorizer()),\n",
    "        ('clf', KNeighborsClassifier()),\n",
    "    ]\n",
    ")"
   ]
  },
  {
   "cell_type": "code",
   "execution_count": 28,
   "id": "681a8bf4-3e40-45d5-b355-91024a15055a",
   "metadata": {},
   "outputs": [],
   "source": [
    "grid_search = GridSearchCV(estimator=pipeline, param_grid=parameter_grid, cv=5, verbose=3)"
   ]
  },
  {
   "cell_type": "code",
   "execution_count": null,
   "id": "19c9fbc8-0558-4cd9-9fcb-b722d2704f7d",
   "metadata": {
    "tags": []
   },
   "outputs": [],
   "source": [
    "grid_search.fit(x_train, y_train)"
   ]
  },
  {
   "cell_type": "code",
   "execution_count": 44,
   "id": "207eab5a-7d46-40d4-b7f7-46956b6b2598",
   "metadata": {},
   "outputs": [
    {
     "data": {
      "text/plain": [
       "{'clf__metric': 'cosine',\n",
       " 'clf__n_neighbors': 9,\n",
       " 'vect__max_df': 0.6,\n",
       " 'vect__max_features': 1500,\n",
       " 'vect__min_df': 4,\n",
       " 'vect__ngram_range': (1, 2)}"
      ]
     },
     "execution_count": 44,
     "metadata": {},
     "output_type": "execute_result"
    }
   ],
   "source": [
    "grid_search.best_params_"
   ]
  },
  {
   "cell_type": "code",
   "execution_count": 43,
   "id": "95dd0628-05f7-4983-af5c-bbb9e1e51326",
   "metadata": {},
   "outputs": [],
   "source": [
    "# Getting the best pipeline from the grid search\n",
    "best_pipeline = grid_search.best_estimator_\n",
    "\n",
    "# Extracting the best vectorizer and classifier from the pipeline\n",
    "best_vectorizer = best_pipeline.steps[0][1]\n",
    "best_classifier = best_pipeline.steps[1][1]"
   ]
  },
  {
   "cell_type": "code",
   "execution_count": 57,
   "id": "b89a7c11-8503-4de5-a9b7-17f63930e26a",
   "metadata": {},
   "outputs": [],
   "source": [
    "# Combining the training data and test data\n",
    "x_combined = np.concatenate([x_train, x_test])\n",
    "\n",
    "# Fitting the vectorizer on the combined data\n",
    "best_vectorizer.fit(x_combined)\n",
    "\n",
    "# Vectorizing the x_test data using the best vectorizer\n",
    "x_test_vectorized = best_vectorizer.transform(x_test)"
   ]
  },
  {
   "cell_type": "code",
   "execution_count": 96,
   "id": "4c897184-c2c3-4c82-9f50-e98d1f0dc00d",
   "metadata": {},
   "outputs": [
    {
     "data": {
      "text/html": [
       "<style>#sk-container-id-5 {color: black;background-color: white;}#sk-container-id-5 pre{padding: 0;}#sk-container-id-5 div.sk-toggleable {background-color: white;}#sk-container-id-5 label.sk-toggleable__label {cursor: pointer;display: block;width: 100%;margin-bottom: 0;padding: 0.3em;box-sizing: border-box;text-align: center;}#sk-container-id-5 label.sk-toggleable__label-arrow:before {content: \"▸\";float: left;margin-right: 0.25em;color: #696969;}#sk-container-id-5 label.sk-toggleable__label-arrow:hover:before {color: black;}#sk-container-id-5 div.sk-estimator:hover label.sk-toggleable__label-arrow:before {color: black;}#sk-container-id-5 div.sk-toggleable__content {max-height: 0;max-width: 0;overflow: hidden;text-align: left;background-color: #f0f8ff;}#sk-container-id-5 div.sk-toggleable__content pre {margin: 0.2em;color: black;border-radius: 0.25em;background-color: #f0f8ff;}#sk-container-id-5 input.sk-toggleable__control:checked~div.sk-toggleable__content {max-height: 200px;max-width: 100%;overflow: auto;}#sk-container-id-5 input.sk-toggleable__control:checked~label.sk-toggleable__label-arrow:before {content: \"▾\";}#sk-container-id-5 div.sk-estimator input.sk-toggleable__control:checked~label.sk-toggleable__label {background-color: #d4ebff;}#sk-container-id-5 div.sk-label input.sk-toggleable__control:checked~label.sk-toggleable__label {background-color: #d4ebff;}#sk-container-id-5 input.sk-hidden--visually {border: 0;clip: rect(1px 1px 1px 1px);clip: rect(1px, 1px, 1px, 1px);height: 1px;margin: -1px;overflow: hidden;padding: 0;position: absolute;width: 1px;}#sk-container-id-5 div.sk-estimator {font-family: monospace;background-color: #f0f8ff;border: 1px dotted black;border-radius: 0.25em;box-sizing: border-box;margin-bottom: 0.5em;}#sk-container-id-5 div.sk-estimator:hover {background-color: #d4ebff;}#sk-container-id-5 div.sk-parallel-item::after {content: \"\";width: 100%;border-bottom: 1px solid gray;flex-grow: 1;}#sk-container-id-5 div.sk-label:hover label.sk-toggleable__label {background-color: #d4ebff;}#sk-container-id-5 div.sk-serial::before {content: \"\";position: absolute;border-left: 1px solid gray;box-sizing: border-box;top: 0;bottom: 0;left: 50%;z-index: 0;}#sk-container-id-5 div.sk-serial {display: flex;flex-direction: column;align-items: center;background-color: white;padding-right: 0.2em;padding-left: 0.2em;position: relative;}#sk-container-id-5 div.sk-item {position: relative;z-index: 1;}#sk-container-id-5 div.sk-parallel {display: flex;align-items: stretch;justify-content: center;background-color: white;position: relative;}#sk-container-id-5 div.sk-item::before, #sk-container-id-5 div.sk-parallel-item::before {content: \"\";position: absolute;border-left: 1px solid gray;box-sizing: border-box;top: 0;bottom: 0;left: 50%;z-index: -1;}#sk-container-id-5 div.sk-parallel-item {display: flex;flex-direction: column;z-index: 1;position: relative;background-color: white;}#sk-container-id-5 div.sk-parallel-item:first-child::after {align-self: flex-end;width: 50%;}#sk-container-id-5 div.sk-parallel-item:last-child::after {align-self: flex-start;width: 50%;}#sk-container-id-5 div.sk-parallel-item:only-child::after {width: 0;}#sk-container-id-5 div.sk-dashed-wrapped {border: 1px dashed gray;margin: 0 0.4em 0.5em 0.4em;box-sizing: border-box;padding-bottom: 0.4em;background-color: white;}#sk-container-id-5 div.sk-label label {font-family: monospace;font-weight: bold;display: inline-block;line-height: 1.2em;}#sk-container-id-5 div.sk-label-container {text-align: center;}#sk-container-id-5 div.sk-container {/* jupyter's `normalize.less` sets `[hidden] { display: none; }` but bootstrap.min.css set `[hidden] { display: none !important; }` so we also need the `!important` here to be able to override the default hidden behavior on the sphinx rendered scikit-learn.org. See: https://github.com/scikit-learn/scikit-learn/issues/21755 */display: inline-block !important;position: relative;}#sk-container-id-5 div.sk-text-repr-fallback {display: none;}</style><div id=\"sk-container-id-5\" class=\"sk-top-container\"><div class=\"sk-text-repr-fallback\"><pre>KNeighborsClassifier(metric=&#x27;cosine&#x27;, n_neighbors=9)</pre><b>In a Jupyter environment, please rerun this cell to show the HTML representation or trust the notebook. <br />On GitHub, the HTML representation is unable to render, please try loading this page with nbviewer.org.</b></div><div class=\"sk-container\" hidden><div class=\"sk-item\"><div class=\"sk-estimator sk-toggleable\"><input class=\"sk-toggleable__control sk-hidden--visually\" id=\"sk-estimator-id-8\" type=\"checkbox\" checked><label for=\"sk-estimator-id-8\" class=\"sk-toggleable__label sk-toggleable__label-arrow\">KNeighborsClassifier</label><div class=\"sk-toggleable__content\"><pre>KNeighborsClassifier(metric=&#x27;cosine&#x27;, n_neighbors=9)</pre></div></div></div></div></div>"
      ],
      "text/plain": [
       "KNeighborsClassifier(metric='cosine', n_neighbors=9)"
      ]
     },
     "execution_count": 96,
     "metadata": {},
     "output_type": "execute_result"
    }
   ],
   "source": [
    "x_train_vectorized = best_vectorizer.transform(x_train)\n",
    "best_classifier.fit(x_train_vectorized, y_train)"
   ]
  },
  {
   "cell_type": "code",
   "execution_count": 99,
   "id": "ff6aca88-1322-4cee-91e5-54deb850c462",
   "metadata": {},
   "outputs": [
    {
     "name": "stdout",
     "output_type": "stream",
     "text": [
      "Accuracy: 0.5259562841530054\n",
      "F1-score: 0.38488100740534215\n",
      "Recall: 0.3782380388292706\n",
      "Precision: 0.4168140858064758\n",
      "Confusion Matrix:\n",
      " [[1307  413  106]\n",
      " [ 434  139   38]\n",
      " [ 327   70   94]]\n"
     ]
    }
   ],
   "source": [
    "# Predictions on the test data\n",
    "y_pred = best_classifier.predict(x_test_vectorized)\n",
    "\n",
    "# Evaluating the model using accuracy, F1-score, recall, and precision\n",
    "accuracy = accuracy_score(y_test, y_pred)\n",
    "f1 = f1_score(y_test, y_pred, average='macro')\n",
    "recall = recall_score(y_test, y_pred, average='macro')\n",
    "precision = precision_score(y_test, y_pred, average='macro')\n",
    "\n",
    "print(\"Accuracy:\", accuracy)\n",
    "print(\"F1-score:\", f1)\n",
    "print(\"Recall:\", recall)\n",
    "print(\"Precision:\", precision)\n",
    "\n",
    "conf_matrix = confusion_matrix(y_test, y_pred)\n",
    "print(\"Confusion Matrix:\\n\", conf_matrix)"
   ]
  },
  {
   "cell_type": "markdown",
   "id": "5723a2c1-dd6c-48ce-b9c7-cffb3a9c0130",
   "metadata": {},
   "source": [
    "## Task 6. "
   ]
  },
  {
   "cell_type": "markdown",
   "id": "3e48a8b7-02ca-4fc9-af22-f1e709f040ac",
   "metadata": {},
   "source": [
    "#### Preprocessing with SpaCy"
   ]
  },
  {
   "cell_type": "code",
   "execution_count": 78,
   "id": "36f28ba2-e594-4722-8476-0f7247431c27",
   "metadata": {},
   "outputs": [],
   "source": [
    "# Cleaning up the text by removing punctuation and special characters\n",
    "import spacy\n",
    "from spacy.lang.en.stop_words import STOP_WORDS\n",
    "\n",
    "nlp = spacy.load('en_core_web_sm')\n",
    "\n",
    "def clean_text_spacy(text):\n",
    "    # Removing punctuation and special characters\n",
    "    text = text.translate(str.maketrans('', '', \"“”\" + string.punctuation.replace('@', '')))\n",
    "    \n",
    "    # Clean up stopwords, emojis, links and tags + lemmatization\n",
    "    text = emoji.replace_emoji(text, replace='')\n",
    "    text = re.sub(r'http[^\\s]+', '', text)\n",
    "    text = re.sub(r'@\\w+', '', text)\n",
    "\n",
    "    doc = nlp(text)\n",
    "    tokens = [token.lemma_.lower() for token in doc if token.text.lower() not in STOP_WORDS]\n",
    "    text = ' '.join(tokens).strip()\n",
    "    return text"
   ]
  },
  {
   "cell_type": "code",
   "execution_count": 79,
   "id": "3362e0c7-b823-42c6-85e4-53b92d82e788",
   "metadata": {},
   "outputs": [],
   "source": [
    "data['text_clean_spacy'] = data['text'].apply(clean_text_spacy)"
   ]
  },
  {
   "cell_type": "code",
   "execution_count": 80,
   "id": "dfe4813e-9429-419b-9ef3-1900ffe4bc5c",
   "metadata": {},
   "outputs": [
    {
     "data": {
      "text/plain": [
       "['say',\n",
       " 'plus ve add commercial experience tacky',\n",
       " 'not today mean need trip',\n",
       " 'aggressive blast obnoxious entertainment guest face amp little recourse',\n",
       " 'big bad thing',\n",
       " 'seriously pay 30 flight seat not playing \\n bad thing fly va',\n",
       " 'yes nearly time fly vx ear worm will away',\n",
       " 'miss prime opportunity men hats parody',\n",
       " 'didnt … d',\n",
       " 'amazing arrive hour early good',\n",
       " 'know suicide second lead cause death teen 1024',\n",
       " 'lt3 pretty graphic well minimal iconography d',\n",
       " 'great deal think 2nd trip   amp not go 1st trip p',\n",
       " 'm fly fabulous seductive sky u stress away travel',\n",
       " 'thank',\n",
       " 'sfopdx schedule mia',\n",
       " 'excited cross country flight lax mco ve hear great thing virgin america 29daystogo',\n",
       " 'fly nyc sfo week not fully sit seat large gentleman help',\n",
       " 'fly',\n",
       " 'know amazingly awesome bosfll want fly']"
      ]
     },
     "execution_count": 80,
     "metadata": {},
     "output_type": "execute_result"
    }
   ],
   "source": [
    "data['text_clean_spacy'].to_list()[:20]"
   ]
  },
  {
   "cell_type": "code",
   "execution_count": 84,
   "id": "3a621880-0c67-4fda-bdcf-b3d108cd967f",
   "metadata": {},
   "outputs": [],
   "source": [
    "X = data['text_clean_spacy'].values"
   ]
  },
  {
   "cell_type": "code",
   "execution_count": 85,
   "id": "01fa0809-ad00-4217-9302-c65f794a4d11",
   "metadata": {},
   "outputs": [],
   "source": [
    "Y = data['labels'].values"
   ]
  },
  {
   "cell_type": "code",
   "execution_count": 87,
   "id": "efe153ea-d2fa-4afc-b736-fb888c9f75b5",
   "metadata": {},
   "outputs": [],
   "source": [
    "x_train_copy, x_test_copy, y_train_copy, y_test_copy = train_test_split(X, Y, test_size=0.2, shuffle=True, random_state=1)"
   ]
  },
  {
   "cell_type": "code",
   "execution_count": 88,
   "id": "6b936ef1-d274-4825-9b5d-429ca756c8aa",
   "metadata": {},
   "outputs": [],
   "source": [
    "from sklearn import clone"
   ]
  },
  {
   "cell_type": "code",
   "execution_count": 89,
   "id": "b0e0d8ae-45fa-457e-bfc0-35b2f07b35dd",
   "metadata": {},
   "outputs": [],
   "source": [
    "# Getting the best pipeline from the grid search\n",
    "best_pipeline_copy = clone(grid_search.best_estimator_)\n",
    "\n",
    "# Extracting the best vectorizer and classifier from the pipeline\n",
    "best_vectorizer_copy = best_pipeline_copy.steps[0][1]\n",
    "best_classifier_copy = best_pipeline_copy.steps[1][1]"
   ]
  },
  {
   "cell_type": "code",
   "execution_count": 100,
   "id": "80c1bda5-f808-4163-9025-43927f514200",
   "metadata": {},
   "outputs": [],
   "source": [
    "x_combined_copy = np.concatenate([x_train_copy, x_test_copy])"
   ]
  },
  {
   "cell_type": "code",
   "execution_count": 101,
   "id": "9850e336-b7aa-4803-8a00-34676e79fe68",
   "metadata": {},
   "outputs": [],
   "source": [
    "# Fitting the vectorizer on the combined data\n",
    "best_vectorizer_copy.fit(x_combined_copy)\n",
    "\n",
    "# Vectorizing the x_test data using the best vectorizer\n",
    "x_test_vectorized_copy = best_vectorizer_copy.transform(x_test_copy)"
   ]
  },
  {
   "cell_type": "code",
   "execution_count": 102,
   "id": "043a4f7b-6c72-4812-a943-7b56546bca14",
   "metadata": {},
   "outputs": [
    {
     "data": {
      "text/html": [
       "<style>#sk-container-id-6 {color: black;background-color: white;}#sk-container-id-6 pre{padding: 0;}#sk-container-id-6 div.sk-toggleable {background-color: white;}#sk-container-id-6 label.sk-toggleable__label {cursor: pointer;display: block;width: 100%;margin-bottom: 0;padding: 0.3em;box-sizing: border-box;text-align: center;}#sk-container-id-6 label.sk-toggleable__label-arrow:before {content: \"▸\";float: left;margin-right: 0.25em;color: #696969;}#sk-container-id-6 label.sk-toggleable__label-arrow:hover:before {color: black;}#sk-container-id-6 div.sk-estimator:hover label.sk-toggleable__label-arrow:before {color: black;}#sk-container-id-6 div.sk-toggleable__content {max-height: 0;max-width: 0;overflow: hidden;text-align: left;background-color: #f0f8ff;}#sk-container-id-6 div.sk-toggleable__content pre {margin: 0.2em;color: black;border-radius: 0.25em;background-color: #f0f8ff;}#sk-container-id-6 input.sk-toggleable__control:checked~div.sk-toggleable__content {max-height: 200px;max-width: 100%;overflow: auto;}#sk-container-id-6 input.sk-toggleable__control:checked~label.sk-toggleable__label-arrow:before {content: \"▾\";}#sk-container-id-6 div.sk-estimator input.sk-toggleable__control:checked~label.sk-toggleable__label {background-color: #d4ebff;}#sk-container-id-6 div.sk-label input.sk-toggleable__control:checked~label.sk-toggleable__label {background-color: #d4ebff;}#sk-container-id-6 input.sk-hidden--visually {border: 0;clip: rect(1px 1px 1px 1px);clip: rect(1px, 1px, 1px, 1px);height: 1px;margin: -1px;overflow: hidden;padding: 0;position: absolute;width: 1px;}#sk-container-id-6 div.sk-estimator {font-family: monospace;background-color: #f0f8ff;border: 1px dotted black;border-radius: 0.25em;box-sizing: border-box;margin-bottom: 0.5em;}#sk-container-id-6 div.sk-estimator:hover {background-color: #d4ebff;}#sk-container-id-6 div.sk-parallel-item::after {content: \"\";width: 100%;border-bottom: 1px solid gray;flex-grow: 1;}#sk-container-id-6 div.sk-label:hover label.sk-toggleable__label {background-color: #d4ebff;}#sk-container-id-6 div.sk-serial::before {content: \"\";position: absolute;border-left: 1px solid gray;box-sizing: border-box;top: 0;bottom: 0;left: 50%;z-index: 0;}#sk-container-id-6 div.sk-serial {display: flex;flex-direction: column;align-items: center;background-color: white;padding-right: 0.2em;padding-left: 0.2em;position: relative;}#sk-container-id-6 div.sk-item {position: relative;z-index: 1;}#sk-container-id-6 div.sk-parallel {display: flex;align-items: stretch;justify-content: center;background-color: white;position: relative;}#sk-container-id-6 div.sk-item::before, #sk-container-id-6 div.sk-parallel-item::before {content: \"\";position: absolute;border-left: 1px solid gray;box-sizing: border-box;top: 0;bottom: 0;left: 50%;z-index: -1;}#sk-container-id-6 div.sk-parallel-item {display: flex;flex-direction: column;z-index: 1;position: relative;background-color: white;}#sk-container-id-6 div.sk-parallel-item:first-child::after {align-self: flex-end;width: 50%;}#sk-container-id-6 div.sk-parallel-item:last-child::after {align-self: flex-start;width: 50%;}#sk-container-id-6 div.sk-parallel-item:only-child::after {width: 0;}#sk-container-id-6 div.sk-dashed-wrapped {border: 1px dashed gray;margin: 0 0.4em 0.5em 0.4em;box-sizing: border-box;padding-bottom: 0.4em;background-color: white;}#sk-container-id-6 div.sk-label label {font-family: monospace;font-weight: bold;display: inline-block;line-height: 1.2em;}#sk-container-id-6 div.sk-label-container {text-align: center;}#sk-container-id-6 div.sk-container {/* jupyter's `normalize.less` sets `[hidden] { display: none; }` but bootstrap.min.css set `[hidden] { display: none !important; }` so we also need the `!important` here to be able to override the default hidden behavior on the sphinx rendered scikit-learn.org. See: https://github.com/scikit-learn/scikit-learn/issues/21755 */display: inline-block !important;position: relative;}#sk-container-id-6 div.sk-text-repr-fallback {display: none;}</style><div id=\"sk-container-id-6\" class=\"sk-top-container\"><div class=\"sk-text-repr-fallback\"><pre>KNeighborsClassifier(metric=&#x27;cosine&#x27;, n_neighbors=9)</pre><b>In a Jupyter environment, please rerun this cell to show the HTML representation or trust the notebook. <br />On GitHub, the HTML representation is unable to render, please try loading this page with nbviewer.org.</b></div><div class=\"sk-container\" hidden><div class=\"sk-item\"><div class=\"sk-estimator sk-toggleable\"><input class=\"sk-toggleable__control sk-hidden--visually\" id=\"sk-estimator-id-9\" type=\"checkbox\" checked><label for=\"sk-estimator-id-9\" class=\"sk-toggleable__label sk-toggleable__label-arrow\">KNeighborsClassifier</label><div class=\"sk-toggleable__content\"><pre>KNeighborsClassifier(metric=&#x27;cosine&#x27;, n_neighbors=9)</pre></div></div></div></div></div>"
      ],
      "text/plain": [
       "KNeighborsClassifier(metric='cosine', n_neighbors=9)"
      ]
     },
     "execution_count": 102,
     "metadata": {},
     "output_type": "execute_result"
    }
   ],
   "source": [
    "x_train_vectorized_copy = best_vectorizer_copy.transform(x_train_copy)\n",
    "best_classifier_copy.fit(x_train_vectorized_copy, y_train_copy)"
   ]
  },
  {
   "cell_type": "code",
   "execution_count": 103,
   "id": "a18f0dce-c18e-495b-aa6b-23a3fefe747c",
   "metadata": {},
   "outputs": [
    {
     "name": "stdout",
     "output_type": "stream",
     "text": [
      "Accuracy: 0.6980874316939891\n",
      "F1-score: 0.6038667892378888\n",
      "Recall: 0.5817050641472914\n",
      "Precision: 0.6436529030798129\n",
      "Confusion Matrix:\n",
      " [[1555  215   56]\n",
      " [ 313  256   42]\n",
      " [ 183   75  233]]\n"
     ]
    }
   ],
   "source": [
    "# Predictions on the test data\n",
    "y_pred = best_classifier_copy.predict(x_test_vectorized_copy)\n",
    "\n",
    "# Evaluating the model using accuracy, F1-score, recall, and precision\n",
    "accuracy = accuracy_score(y_test, y_pred)\n",
    "f1 = f1_score(y_test, y_pred, average='macro')\n",
    "recall = recall_score(y_test, y_pred, average='macro')\n",
    "precision = precision_score(y_test, y_pred, average='macro')\n",
    "\n",
    "print(\"Accuracy:\", accuracy)\n",
    "print(\"F1-score:\", f1)\n",
    "print(\"Recall:\", recall)\n",
    "print(\"Precision:\", precision)\n",
    "\n",
    "conf_matrix = confusion_matrix(y_test, y_pred)\n",
    "print(\"Confusion Matrix:\\n\", conf_matrix)"
   ]
  },
  {
   "cell_type": "markdown",
   "id": "f24078ac-8e11-4271-b145-98606775f5c7",
   "metadata": {},
   "source": [
    "**->** SpaCy preprocessing improved the classifier performance. In terms of lemmatization it works significantly better."
   ]
  },
  {
   "cell_type": "code",
   "execution_count": null,
   "id": "dbbec159-a5eb-4986-9e02-bad9197a8272",
   "metadata": {},
   "outputs": [],
   "source": []
  }
 ],
 "metadata": {
  "kernelspec": {
   "display_name": "Python 3 (ipykernel)",
   "language": "python",
   "name": "python3"
  },
  "language_info": {
   "codemirror_mode": {
    "name": "ipython",
    "version": 3
   },
   "file_extension": ".py",
   "mimetype": "text/x-python",
   "name": "python",
   "nbconvert_exporter": "python",
   "pygments_lexer": "ipython3",
   "version": "3.9.13"
  }
 },
 "nbformat": 4,
 "nbformat_minor": 5
}
